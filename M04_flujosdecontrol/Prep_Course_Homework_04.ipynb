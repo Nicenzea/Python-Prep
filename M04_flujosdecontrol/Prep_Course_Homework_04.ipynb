{
 "cells": [
  {
   "attachments": {},
   "cell_type": "markdown",
   "metadata": {},
   "source": [
    "## Flujos de Control"
   ]
  },
  {
   "attachments": {},
   "cell_type": "markdown",
   "metadata": {},
   "source": [
    "1) Crear una variable que contenga un elemento del conjunto de números enteros y luego imprimir por pantalla si es mayor o menor a cero"
   ]
  },
  {
   "cell_type": "code",
   "execution_count": 3,
   "metadata": {},
   "outputs": [
    {
     "name": "stdout",
     "output_type": "stream",
     "text": [
      "5 Es mayor que 0\n"
     ]
    }
   ],
   "source": [
    "x=5\n",
    "if x>0:\n",
    "    print(x, \"Es mayor que 0\")\n",
    "else:\n",
    "    print(x, \"Es menor que 0\")"
   ]
  },
  {
   "attachments": {},
   "cell_type": "markdown",
   "metadata": {},
   "source": [
    "2) Crear dos variables y un condicional que informe si son del mismo tipo de dato"
   ]
  },
  {
   "cell_type": "code",
   "execution_count": 4,
   "metadata": {},
   "outputs": [
    {
     "name": "stdout",
     "output_type": "stream",
     "text": [
      "Las variables son de diferente tipo de dato\n"
     ]
    }
   ],
   "source": [
    "num=1\n",
    "num1=\"1\"\n",
    "if type(num)==type(num1):\n",
    "    print(\"Las variables son del mismo tipo de dato\")\n",
    "else:\n",
    "    print(\"Las variables son de diferente tipo de dato\")"
   ]
  },
  {
   "attachments": {},
   "cell_type": "markdown",
   "metadata": {},
   "source": [
    "3) Para los valores enteros del 1 al 20, imprimir por pantalla si es par o impar"
   ]
  },
  {
   "cell_type": "code",
   "execution_count": 5,
   "metadata": {},
   "outputs": [
    {
     "name": "stdout",
     "output_type": "stream",
     "text": [
      "El numero  1 es impar\n",
      "El numero  2 es par\n",
      "El numero  3 es impar\n",
      "El numero  4 es par\n",
      "El numero  5 es impar\n",
      "El numero  6 es par\n",
      "El numero  7 es impar\n",
      "El numero  8 es par\n",
      "El numero  9 es impar\n",
      "El numero  10 es par\n",
      "El numero  11 es impar\n",
      "El numero  12 es par\n",
      "El numero  13 es impar\n",
      "El numero  14 es par\n",
      "El numero  15 es impar\n",
      "El numero  16 es par\n",
      "El numero  17 es impar\n",
      "El numero  18 es par\n",
      "El numero  19 es impar\n",
      "El numero  20 es par\n"
     ]
    }
   ],
   "source": [
    "for i in range(1,21):\n",
    "    if i%2==0:\n",
    "        print(\"El numero \",i,\"es par\")\n",
    "    else:\n",
    "        print(\"El numero \",i,\"es impar\")"
   ]
  },
  {
   "attachments": {},
   "cell_type": "markdown",
   "metadata": {},
   "source": [
    "4) En un ciclo for mostrar para los valores entre 0 y 5 el resultado de elevarlo a la potencia igual a 3"
   ]
  },
  {
   "cell_type": "code",
   "execution_count": 11,
   "metadata": {},
   "outputs": [
    {
     "name": "stdout",
     "output_type": "stream",
     "text": [
      "El valor 0 elevado a la 3 potencia es igual a:  0\n",
      "El valor 1 elevado a la 3 potencia es igual a:  1\n",
      "El valor 2 elevado a la 3 potencia es igual a:  8\n",
      "El valor 3 elevado a la 3 potencia es igual a:  27\n",
      "El valor 4 elevado a la 3 potencia es igual a:  64\n",
      "El valor 5 elevado a la 3 potencia es igual a:  125\n"
     ]
    }
   ],
   "source": [
    "for i in range(0,6):\n",
    "    valor=i**3\n",
    "    print(\"El valor\",i,\"elevado a la 3 potencia es igual a: \",valor)"
   ]
  },
  {
   "attachments": {},
   "cell_type": "markdown",
   "metadata": {},
   "source": [
    "5) Crear una variable que contenga un número entero y realizar un ciclo for la misma cantidad de ciclos"
   ]
  },
  {
   "cell_type": "code",
   "execution_count": 13,
   "metadata": {},
   "outputs": [
    {
     "name": "stdout",
     "output_type": "stream",
     "text": [
      "9\n"
     ]
    }
   ],
   "source": [
    "x=10\n",
    "for i in range(0,x):\n",
    "    pass\n",
    "print(i)"
   ]
  },
  {
   "attachments": {},
   "cell_type": "markdown",
   "metadata": {},
   "source": [
    "6) Utilizar un ciclo while para realizar el factorial de un número guardado en una variable, sólo si la variable contiene un número entero mayor a 0"
   ]
  },
  {
   "cell_type": "code",
   "execution_count": 14,
   "metadata": {},
   "outputs": [
    {
     "name": "stdout",
     "output_type": "stream",
     "text": [
      "El factorial es 40320\n"
     ]
    }
   ],
   "source": [
    "n = 8\n",
    "if (type(n) == int):\n",
    "    if (n > 0):\n",
    "        factorial = n\n",
    "        while (n > 2):\n",
    "            n = n - 1\n",
    "            factorial = factorial * n\n",
    "        print('El factorial es', factorial)\n",
    "    else:\n",
    "        print('La variable no es mayor a cero')\n",
    "else:\n",
    "    print('La variable no es un entero')"
   ]
  },
  {
   "attachments": {},
   "cell_type": "markdown",
   "metadata": {},
   "source": [
    "7) Crear un ciclo for dentro de un ciclo while"
   ]
  },
  {
   "cell_type": "code",
   "execution_count": 37,
   "metadata": {},
   "outputs": [
    {
     "name": "stdout",
     "output_type": "stream",
     "text": [
      "Ciclo while nro 1\n",
      "Ciclo for nro 1\n",
      "Ciclo while nro 2\n",
      "Ciclo for nro 1\n",
      "Ciclo for nro 2\n",
      "Ciclo while nro 3\n",
      "Ciclo for nro 1\n",
      "Ciclo for nro 2\n",
      "Ciclo for nro 3\n",
      "Ciclo while nro 4\n",
      "Ciclo for nro 1\n",
      "Ciclo for nro 2\n",
      "Ciclo for nro 3\n",
      "Ciclo for nro 4\n",
      "Ciclo while nro 5\n",
      "Ciclo for nro 1\n",
      "Ciclo for nro 2\n",
      "Ciclo for nro 3\n",
      "Ciclo for nro 4\n",
      "Ciclo for nro 5\n"
     ]
    }
   ],
   "source": [
    "n = 1\n",
    "while n < 6:\n",
    "    print('Ciclo while nro ' + str(n))  \n",
    "    for i in range(1, n+1):\n",
    "        print('Ciclo for nro ' + str(i))\n",
    "    n += 1"
   ]
  },
  {
   "attachments": {},
   "cell_type": "markdown",
   "metadata": {},
   "source": [
    "8) Crear un ciclo while dentro de un ciclo for"
   ]
  },
  {
   "cell_type": "code",
   "execution_count": 23,
   "metadata": {},
   "outputs": [],
   "source": [
    "n=5\n",
    "for i in range(1,n):\n",
    "    while(n<5):\n",
    "        n-=1\n",
    "        print('Ciclo while nro ' + str(n))\n",
    "        print('Ciclo for nro ' + str(i))"
   ]
  },
  {
   "attachments": {},
   "cell_type": "markdown",
   "metadata": {},
   "source": [
    "9) Imprimir los números primos existentes entre 0 y 30"
   ]
  },
  {
   "cell_type": "code",
   "execution_count": 25,
   "metadata": {},
   "outputs": [
    {
     "name": "stdout",
     "output_type": "stream",
     "text": [
      "0\n",
      "1\n",
      "2\n",
      "3\n",
      "5\n",
      "7\n",
      "11\n",
      "13\n",
      "17\n",
      "19\n",
      "23\n",
      "29\n"
     ]
    }
   ],
   "source": [
    "Tope=30\n",
    "n=0\n",
    "primo=True\n",
    "while(n<Tope):\n",
    "    for div in range(2,n):\n",
    "        if n%div==0:\n",
    "            primo=False\n",
    "    if primo:\n",
    "        print(n)\n",
    "    else:\n",
    "        primo=True\n",
    "    n+=1\n"
   ]
  },
  {
   "attachments": {},
   "cell_type": "markdown",
   "metadata": {},
   "source": [
    "10) ¿Se puede mejorar el proceso del punto 9? Utilizar las sentencias break y/ó continue para tal fin"
   ]
  },
  {
   "cell_type": "code",
   "execution_count": 26,
   "metadata": {},
   "outputs": [
    {
     "name": "stdout",
     "output_type": "stream",
     "text": [
      "0\n",
      "1\n",
      "2\n",
      "3\n",
      "5\n",
      "7\n",
      "11\n",
      "13\n",
      "17\n",
      "19\n",
      "23\n",
      "29\n"
     ]
    }
   ],
   "source": [
    "Tope=30\n",
    "n=0\n",
    "primo=True\n",
    "while(n<Tope):\n",
    "    for div in range(2,n):\n",
    "        if n%div==0:\n",
    "            primo=False\n",
    "            break\n",
    "    if primo:\n",
    "        print(n)\n",
    "    else:\n",
    "        primo=True\n",
    "    n+=1"
   ]
  },
  {
   "attachments": {},
   "cell_type": "markdown",
   "metadata": {},
   "source": [
    "11) En los puntos 9 y 10, se diseño un código que encuentra números primos y además se lo optimizó. ¿Es posible saber en qué medida se optimizó?"
   ]
  },
  {
   "cell_type": "code",
   "execution_count": 28,
   "metadata": {},
   "outputs": [
    {
     "name": "stdout",
     "output_type": "stream",
     "text": [
      "0\n",
      "1\n",
      "2\n",
      "3\n",
      "5\n",
      "7\n",
      "11\n",
      "13\n",
      "17\n",
      "19\n",
      "23\n",
      "29\n",
      "Cantidad de ciclos: 134\n"
     ]
    }
   ],
   "source": [
    "Ciclos_sin_break=0\n",
    "Tope=30\n",
    "n=0\n",
    "primo=True\n",
    "while(n<Tope):\n",
    "    for div in range(2,n):\n",
    "        Ciclos_sin_break+=1\n",
    "        if n%div==0:\n",
    "            primo=False\n",
    "            break\n",
    "    if primo:\n",
    "        print(n)\n",
    "    else:\n",
    "        primo=True\n",
    "    n+=1\n",
    "print('Cantidad de ciclos: ' + str(Ciclos_sin_break))"
   ]
  },
  {
   "cell_type": "code",
   "execution_count": 32,
   "metadata": {},
   "outputs": [
    {
     "name": "stdout",
     "output_type": "stream",
     "text": [
      "0\n",
      "1\n",
      "2\n",
      "3\n",
      "5\n",
      "7\n",
      "11\n",
      "13\n",
      "17\n",
      "19\n",
      "23\n",
      "29\n",
      "Cantidad de ciclos: 134\n",
      "Se optimizó a un 1.0% de ciclos aplicando break\n"
     ]
    }
   ],
   "source": [
    "Ciclos_con_break=0\n",
    "Tope=30\n",
    "n=0\n",
    "primo=True\n",
    "while(n<Tope):\n",
    "    for div in range(2,n):\n",
    "        Ciclos_con_break+=1\n",
    "        if n%div==0:\n",
    "            primo=False\n",
    "            break\n",
    "    if primo:\n",
    "        print(n)\n",
    "    else:\n",
    "        primo=True\n",
    "    n+=1\n",
    "print('Cantidad de ciclos: ' + str(Ciclos_con_break))\n",
    "print('Se optimizó a un ' + str(Ciclos_con_break/Ciclos_con_break) + '% de ciclos aplicando break')"
   ]
  },
  {
   "attachments": {},
   "cell_type": "markdown",
   "metadata": {},
   "source": [
    "12) Aplicando continue, armar un ciclo while que solo imprima los valores divisibles por 12, dentro del rango de números de 100 a 300"
   ]
  },
  {
   "cell_type": "code",
   "execution_count": 33,
   "metadata": {},
   "outputs": [
    {
     "name": "stdout",
     "output_type": "stream",
     "text": [
      "108 es divisble por 12\n",
      "120 es divisble por 12\n",
      "132 es divisble por 12\n",
      "144 es divisble por 12\n",
      "156 es divisble por 12\n",
      "168 es divisble por 12\n",
      "180 es divisble por 12\n",
      "192 es divisble por 12\n",
      "204 es divisble por 12\n",
      "216 es divisble por 12\n",
      "228 es divisble por 12\n",
      "240 es divisble por 12\n",
      "252 es divisble por 12\n",
      "264 es divisble por 12\n",
      "276 es divisble por 12\n",
      "288 es divisble por 12\n",
      "300 es divisble por 12\n"
     ]
    }
   ],
   "source": [
    "n=99\n",
    "while(n<=300):\n",
    "    n+=1\n",
    "    if(n%12!=0):\n",
    "       continue\n",
    "    print(n,\"es divisble por 12\")"
   ]
  },
  {
   "attachments": {},
   "cell_type": "markdown",
   "metadata": {},
   "source": [
    "13) Utilizar la función **input()** que permite hacer ingresos por teclado, para encontrar números primos y dar la opción al usario de buscar el siguiente"
   ]
  },
  {
   "cell_type": "code",
   "execution_count": 35,
   "metadata": {},
   "outputs": [
    {
     "name": "stdout",
     "output_type": "stream",
     "text": [
      "1\n",
      "Desea continuar?\n",
      "2\n",
      "Desea continuar?\n",
      "3\n",
      "Desea continuar?\n",
      "5\n",
      "Desea continuar?\n",
      "7\n",
      "Desea continuar?\n",
      "Se finalizo el proceso.\n"
     ]
    }
   ],
   "source": [
    "n=1\n",
    "sigue=1\n",
    "primo=True\n",
    "while sigue==1:\n",
    "    for div in range(2,n):\n",
    "        if n%div==0:\n",
    "            primo=False\n",
    "            break\n",
    "    if primo:\n",
    "        print(n)\n",
    "        print(\"Desea continuar?\")\n",
    "        if input()!=\"1\":\n",
    "            print(\"Se finalizo el proceso.\")\n",
    "            break\n",
    "    else:\n",
    "        primo=True\n",
    "    n+=1"
   ]
  },
  {
   "attachments": {},
   "cell_type": "markdown",
   "metadata": {},
   "source": [
    "14) Crear un ciclo while que encuentre dentro del rango de 100 a 300 el primer número divisible por 3 y además múltiplo de 6"
   ]
  },
  {
   "cell_type": "code",
   "execution_count": 36,
   "metadata": {},
   "outputs": [
    {
     "name": "stdout",
     "output_type": "stream",
     "text": [
      "El numero es: 102\n"
     ]
    }
   ],
   "source": [
    "n=100\n",
    "while n<=300:\n",
    "    if n%6==0:\n",
    "        print(\"El numero es:\",n)\n",
    "        break\n",
    "    n+=1\n"
   ]
  }
 ],
 "metadata": {
  "interpreter": {
   "hash": "c85384e4cb51c8b72350f3a8712cc8351fdc3955e32a27f9b60c6242ab125f01"
  },
  "kernelspec": {
   "display_name": "Python 3 (ipykernel)",
   "language": "python",
   "name": "python3"
  },
  "language_info": {
   "codemirror_mode": {
    "name": "ipython",
    "version": 3
   },
   "file_extension": ".py",
   "mimetype": "text/x-python",
   "name": "python",
   "nbconvert_exporter": "python",
   "pygments_lexer": "ipython3",
   "version": "3.10.11"
  }
 },
 "nbformat": 4,
 "nbformat_minor": 4
}
