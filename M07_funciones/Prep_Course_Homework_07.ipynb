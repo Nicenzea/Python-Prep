{
 "cells": [
  {
   "attachments": {},
   "cell_type": "markdown",
   "metadata": {},
   "source": [
    "## Funciones"
   ]
  },
  {
   "attachments": {},
   "cell_type": "markdown",
   "metadata": {},
   "source": [
    "1) Crear una función que reciba un número como parámetro y devuelva True si es primo y False si no lo es"
   ]
  },
  {
   "cell_type": "code",
   "execution_count": 8,
   "metadata": {},
   "outputs": [],
   "source": [
    "def ver_primos(numero):\n",
    "    es_primo=True\n",
    "    for i in range(2,numero):\n",
    "        if numero%i==0:\n",
    "            es_primo=False\n",
    "            break\n",
    "        return es_primo"
   ]
  },
  {
   "attachments": {},
   "cell_type": "markdown",
   "metadata": {},
   "source": [
    "2) Utilizando la función del punto 1, realizar otra función que reciba de parámetro una lista de números y devuelva sólo aquellos que son primos en otra lista"
   ]
  },
  {
   "cell_type": "code",
   "execution_count": 9,
   "metadata": {},
   "outputs": [],
   "source": [
    "def numeros_primos(lista):\n",
    "    primos=[]\n",
    "    for elemento in lista:\n",
    "        if ver_primos(elemento):\n",
    "            primos.append(elemento)\n",
    "    return primos"
   ]
  },
  {
   "cell_type": "code",
   "execution_count": 10,
   "metadata": {},
   "outputs": [
    {
     "data": {
      "text/plain": [
       "[3, 5, 7, 9, 11, 13, 15, 17, 19]"
      ]
     },
     "execution_count": 10,
     "metadata": {},
     "output_type": "execute_result"
    }
   ],
   "source": [
    "lista_numeros=[1,2,3,4,5,6,7,8,9,10,11,12,13,1,4,15,16,17,18,19,20]\n",
    "lista_primos=numeros_primos(lista_numeros)\n",
    "lista_primos"
   ]
  },
  {
   "attachments": {},
   "cell_type": "markdown",
   "metadata": {},
   "source": [
    "3) Crear una función que al recibir una lista de números, devuelva el que más se repite y cuántas veces lo hace. Si hay más de un \"más repetido\", que devuelva cualquiera"
   ]
  },
  {
   "cell_type": "code",
   "execution_count": 11,
   "metadata": {},
   "outputs": [],
   "source": [
    "def nums_repetidos(lista):\n",
    "    numeros_unicos=[]\n",
    "    numeros_repetidos=[]\n",
    "    if len(lista)==0:\n",
    "        return None\n",
    "    for elemento in lista:\n",
    "        if elemento in numeros_unicos:\n",
    "            i=numeros_unicos.index(elemento)\n",
    "            numeros_repetidos[i]+=1\n",
    "        else:\n",
    "            numeros_unicos.append(elemento)\n",
    "            numeros_repetidos.append(1)\n",
    "    primer_elemento=numeros_unicos[0]\n",
    "    maximo_repeticiones=numeros_repetidos[0]\n",
    "    for i, elemento in enumerate(numeros_unicos):\n",
    "        if numeros_repetidos[i]>maximo_repeticiones:\n",
    "            primer_elemento=numeros_unicos[i]\n",
    "            maximo_repeticiones=numeros_repetidos[i]\n",
    "    return primer_elemento,maximo_repeticiones\n",
    "\n"
   ]
  },
  {
   "cell_type": "code",
   "execution_count": 12,
   "metadata": {},
   "outputs": [],
   "source": [
    "lista=[1,1,5,6,8,10,22,5,6,4,11,9,5]"
   ]
  },
  {
   "cell_type": "code",
   "execution_count": 13,
   "metadata": {},
   "outputs": [
    {
     "data": {
      "text/plain": [
       "(5, 3)"
      ]
     },
     "execution_count": 13,
     "metadata": {},
     "output_type": "execute_result"
    }
   ],
   "source": [
    "nums_repetidos(lista)"
   ]
  },
  {
   "attachments": {},
   "cell_type": "markdown",
   "metadata": {},
   "source": [
    "4) Crear una función que convierta entre grados Celsius, Farenheit y Kelvin<br>\n",
    "Fórmula 1\t: (°C × 9/5) + 32 = °F<br>\n",
    "Fórmula 2\t: °C + 273.15 = °K<br>\n",
    "Debe recibir 3 parámetros: el valor, la medida de orígen y la medida de destino\n"
   ]
  },
  {
   "cell_type": "code",
   "execution_count": 2,
   "metadata": {},
   "outputs": [],
   "source": [
    "def conv_grados(temperatura,unidad_origen,unidad_destino):\n",
    "    if unidad_origen=='Celsius':\n",
    "        if unidad_destino=='Celsius':\n",
    "            temperatura_destino=temperatura\n",
    "        elif unidad_destino=='Farenheit':\n",
    "            temperatura_destino=(temperatura*9/5)+32\n",
    "        elif unidad_destino=='Kelvin':\n",
    "            temperatura_destino=temperatura+273.15\n",
    "        else:\n",
    "            print('Teperatura destino incorrecta')\n",
    "    elif unidad_origen=='Farenheit':\n",
    "        if unidad_destino=='Celsius':\n",
    "            temperatura_destino=(temperatura-32)*9/5\n",
    "        elif unidad_destino=='Kelvin':\n",
    "            temperatura_destino=((temperatura-32)*5/9)+237.15\n",
    "        elif unidad_origen=='Farenheit':\n",
    "            temperatura_destino=temperatura\n",
    "        else:\n",
    "            print('Temperatura destino incorrecta')\n",
    "    elif unidad_origen=='Kelvin':\n",
    "        if unidad_destino=='Celsius':\n",
    "            temperatura_destino=temperatura-273.15\n",
    "        elif unidad_destino=='Farenheit':\n",
    "            temperatura_destino=((temperatura-273.15)*9/5)+32\n",
    "        elif unidad_destino=='Kelvin':\n",
    "            temperatura_destino=temperatura\n",
    "        else:\n",
    "            print('Temperatura destino incorrecta')\n",
    "    return temperatura_destino"
   ]
  },
  {
   "cell_type": "code",
   "execution_count": 3,
   "metadata": {},
   "outputs": [
    {
     "name": "stdout",
     "output_type": "stream",
     "text": [
      "1 grado Celsius a Celsius: 1\n",
      "1 grado Celsius a Kelvin: 274.15\n",
      "1 grado Celsius a Farenheit: 33.8\n",
      "1 grado Kelvin a Celsius: -272.15\n",
      "1 grado Kelvin a Kelvin: 1\n",
      "1 grado Kelvin a Farenheit: -457.87\n",
      "1 grado Farenheit a Celsius: -55.8\n",
      "1 grado Farenheit a Kelvin: 219.92777777777778\n",
      "1 grado Farenheit a Farenheit: 1\n"
     ]
    }
   ],
   "source": [
    "print('1 grado Celsius a Celsius:', conv_grados(1, 'Celsius', 'Celsius'))\n",
    "print('1 grado Celsius a Kelvin:', conv_grados(1, 'Celsius', 'Kelvin'))\n",
    "print('1 grado Celsius a Farenheit:', conv_grados(1, 'Celsius', 'Farenheit'))\n",
    "print('1 grado Kelvin a Celsius:', conv_grados(1, 'Kelvin', 'Celsius'))\n",
    "print('1 grado Kelvin a Kelvin:', conv_grados(1, 'Kelvin', 'Kelvin'))\n",
    "print('1 grado Kelvin a Farenheit:', conv_grados(1, 'Kelvin', 'Farenheit'))\n",
    "print('1 grado Farenheit a Celsius:', conv_grados(1, 'Farenheit', 'Celsius'))\n",
    "print('1 grado Farenheit a Kelvin:', conv_grados(1, 'Farenheit', 'Kelvin'))\n",
    "print('1 grado Farenheit a Farenheit:', conv_grados(1, 'Farenheit', 'Farenheit'))"
   ]
  },
  {
   "attachments": {},
   "cell_type": "markdown",
   "metadata": {},
   "source": [
    "5) Iterando una lista con los tres valores posibles de temperatura que recibe la función del punto 5, hacer un print para cada combinación de los mismos:"
   ]
  },
  {
   "cell_type": "code",
   "execution_count": 5,
   "metadata": {},
   "outputs": [
    {
     "name": "stdout",
     "output_type": "stream",
     "text": [
      "1 grado Celsius a Celsius : 1\n",
      "1 grado Celsius a Farenheit : 33.8\n",
      "1 grado Celsius a Kelvin : 274.15\n",
      "1 grado Farenheit a Celsius : -55.8\n",
      "1 grado Farenheit a Farenheit : 1\n",
      "1 grado Farenheit a Kelvin : 219.92777777777778\n",
      "1 grado Kelvin a Celsius : -272.15\n",
      "1 grado Kelvin a Farenheit : -457.87\n",
      "1 grado Kelvin a Kelvin : 1\n"
     ]
    }
   ],
   "source": [
    "unidades=['Celsius','Farenheit','Kelvin']\n",
    "for i in range(0,3):\n",
    "    for j in range(0,3):\n",
    "        print('1 grado', unidades[i], 'a', unidades[j], ':', conv_grados(1, unidades[i], unidades[j]))"
   ]
  },
  {
   "attachments": {},
   "cell_type": "markdown",
   "metadata": {},
   "source": [
    "6) Armar una función que devuelva el factorial de un número. Tener en cuenta que el usuario puede equivocarse y enviar de parámetro un número no entero o negativo"
   ]
  },
  {
   "cell_type": "code",
   "execution_count": 9,
   "metadata": {},
   "outputs": [],
   "source": [
    "def factorial(numero):\n",
    "    if numero<0:\n",
    "        return 'El numero debe ser positivo'\n",
    "    if type(numero)!=int:\n",
    "        return 'El numero debe ser entero'\n",
    "    if numero<=1:\n",
    "        return 1\n",
    "    numero=numero*factorial(numero-1)\n",
    "    return(numero)\n",
    "    "
   ]
  },
  {
   "cell_type": "code",
   "execution_count": 11,
   "metadata": {},
   "outputs": [
    {
     "name": "stdout",
     "output_type": "stream",
     "text": [
      "120\n",
      "El numero debe ser positivo\n",
      "El numero debe ser entero\n",
      "1\n"
     ]
    }
   ],
   "source": [
    "print(factorial(5))\n",
    "print(factorial(-1))\n",
    "print(factorial(3.5))\n",
    "print(factorial(1))"
   ]
  }
 ],
 "metadata": {
  "interpreter": {
   "hash": "c85384e4cb51c8b72350f3a8712cc8351fdc3955e32a27f9b60c6242ab125f01"
  },
  "kernelspec": {
   "display_name": "Python 3 (ipykernel)",
   "language": "python",
   "name": "python3"
  },
  "language_info": {
   "codemirror_mode": {
    "name": "ipython",
    "version": 3
   },
   "file_extension": ".py",
   "mimetype": "text/x-python",
   "name": "python",
   "nbconvert_exporter": "python",
   "pygments_lexer": "ipython3",
   "version": "3.10.11"
  }
 },
 "nbformat": 4,
 "nbformat_minor": 4
}
